{
 "cells": [
  {
   "cell_type": "markdown",
   "source": [
    "# Setting up the DB (mongo)"
   ],
   "metadata": {
    "collapsed": false,
    "pycharm": {
     "name": "#%% md\n"
    }
   }
  },
  {
   "cell_type": "markdown",
   "source": [
    "We are using mongo DB in this example. We chose MongoDB because we don't need the relational functionality of SQL for this project, we simply need to store our tables and retrieve them based on the company name. This design will easily scale, because we can add one collection per company, and then perform our analysis for each company separately."
   ],
   "metadata": {
    "collapsed": false,
    "pycharm": {
     "name": "#%% md\n"
    }
   }
  },
  {
   "cell_type": "code",
   "execution_count": 1,
   "outputs": [],
   "source": [
    "import pymongo\n",
    "import pandas_datareader as pdr"
   ],
   "metadata": {
    "collapsed": false,
    "pycharm": {
     "name": "#%%\n"
    }
   }
  },
  {
   "cell_type": "code",
   "execution_count": 3,
   "outputs": [
    {
     "data": {
      "text/plain": "0"
     },
     "execution_count": 3,
     "metadata": {},
     "output_type": "execute_result"
    }
   ],
   "source": [
    "client = pymongo.MongoClient()\n",
    "db = client['final_project_db']\n",
    "db.final_project_db.count_documents({})"
   ],
   "metadata": {
    "collapsed": false,
    "pycharm": {
     "name": "#%%\n"
    }
   }
  },
  {
   "cell_type": "code",
   "execution_count": 4,
   "outputs": [
    {
     "name": "stdout",
     "output_type": "stream",
     "text": [
      "                          High        Low       Open      Close      Volume  \\\n",
      "Date                                                                          \n",
      "2017-08-07 00:00:00  46.584999  46.325001  46.452999  46.467999  20644000.0   \n",
      "2017-08-08 00:00:00  46.790699  46.280499  46.354500  46.339500  21232000.0   \n",
      "2017-08-09 00:00:00  46.299000  45.862499  46.030499  46.145000  23842000.0   \n",
      "2017-08-10 00:00:00  45.963001  45.306499  45.877499  45.362000  36480000.0   \n",
      "2017-08-11 00:00:00  45.889000  45.278999  45.398499  45.719501  24136000.0   \n",
      "\n",
      "                     Adj Close  \n",
      "Date                            \n",
      "2017-08-07 00:00:00  46.467999  \n",
      "2017-08-08 00:00:00  46.339500  \n",
      "2017-08-09 00:00:00  46.145000  \n",
      "2017-08-10 00:00:00  45.362000  \n",
      "2017-08-11 00:00:00  45.719501  \n"
     ]
    },
    {
     "data": {
      "text/plain": "1"
     },
     "execution_count": 4,
     "metadata": {},
     "output_type": "execute_result"
    }
   ],
   "source": [
    "google_data = pdr.get_data_yahoo('GOOG')\n",
    "google_data.index = google_data.index.map(str)\n",
    "db.final_project_db.insert_one(google_data.to_dict())\n",
    "\n",
    "print(google_data.head())\n",
    "db.final_project_db.count_documents({})"
   ],
   "metadata": {
    "collapsed": false,
    "pycharm": {
     "name": "#%%\n"
    }
   }
  },
  {
   "cell_type": "code",
   "execution_count": 5,
   "outputs": [
    {
     "name": "stdout",
     "output_type": "stream",
     "text": [
      "                           High         Low        Open       Close    Volume  \\\n",
      "Date                                                                            \n",
      "2017-08-07 00:00:00  172.059998  169.660004  169.949997  171.979996  12787800   \n",
      "2017-08-08 00:00:00  173.050003  170.619995  171.880005  171.229996  14393500   \n",
      "2017-08-09 00:00:00  171.449997  169.559998  169.979996  171.179993  10815000   \n",
      "2017-08-10 00:00:00  170.589996  166.850006  170.059998  167.399994  20832700   \n",
      "2017-08-11 00:00:00  168.820007  166.850006  167.949997  168.080002  13791200   \n",
      "\n",
      "                      Adj Close  \n",
      "Date                             \n",
      "2017-08-07 00:00:00  171.979996  \n",
      "2017-08-08 00:00:00  171.229996  \n",
      "2017-08-09 00:00:00  171.179993  \n",
      "2017-08-10 00:00:00  167.399994  \n",
      "2017-08-11 00:00:00  168.080002  \n"
     ]
    },
    {
     "data": {
      "text/plain": "2"
     },
     "execution_count": 5,
     "metadata": {},
     "output_type": "execute_result"
    }
   ],
   "source": [
    "meta_data = pdr.get_data_yahoo('META')\n",
    "meta_data.index = meta_data.index.map(str)\n",
    "db.final_project_db.insert_one(meta_data.to_dict())\n",
    "\n",
    "print(meta_data.head())\n",
    "db.final_project_db.count_documents({})"
   ],
   "metadata": {
    "collapsed": false,
    "pycharm": {
     "name": "#%%\n"
    }
   }
  }
 ],
 "metadata": {
  "kernelspec": {
   "display_name": "Python 3",
   "language": "python",
   "name": "python3"
  },
  "language_info": {
   "codemirror_mode": {
    "name": "ipython",
    "version": 2
   },
   "file_extension": ".py",
   "mimetype": "text/x-python",
   "name": "python",
   "nbconvert_exporter": "python",
   "pygments_lexer": "ipython2",
   "version": "2.7.6"
  }
 },
 "nbformat": 4,
 "nbformat_minor": 0
}
