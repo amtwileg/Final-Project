{
 "cells": [
  {
   "cell_type": "markdown",
   "source": [
    "# Exploratory Data Analysis"
   ],
   "metadata": {
    "collapsed": false,
    "pycharm": {
     "name": "#%% md\n"
    }
   }
  },
  {
   "cell_type": "code",
   "execution_count": 20,
   "outputs": [],
   "source": [
    "import pandas_datareader as pdr\n",
    "import numpy as np"
   ],
   "metadata": {
    "collapsed": false,
    "pycharm": {
     "name": "#%%\n"
    }
   }
  },
  {
   "cell_type": "markdown",
   "source": [
    "## Import data"
   ],
   "metadata": {
    "collapsed": false,
    "pycharm": {
     "name": "#%% md\n"
    }
   }
  },
  {
   "cell_type": "code",
   "execution_count": 2,
   "outputs": [
    {
     "data": {
      "text/plain": "                 High        Low       Open      Close      Volume  Adj Close\nDate                                                                         \n2017-08-07  46.584999  46.325001  46.452999  46.467999  20644000.0  46.467999\n2017-08-08  46.790699  46.280499  46.354500  46.339500  21232000.0  46.339500\n2017-08-09  46.299000  45.862499  46.030499  46.145000  23842000.0  46.145000\n2017-08-10  45.963001  45.306499  45.877499  45.362000  36480000.0  45.362000\n2017-08-11  45.889000  45.278999  45.398499  45.719501  24136000.0  45.719501",
      "text/html": "<div>\n<style scoped>\n    .dataframe tbody tr th:only-of-type {\n        vertical-align: middle;\n    }\n\n    .dataframe tbody tr th {\n        vertical-align: top;\n    }\n\n    .dataframe thead th {\n        text-align: right;\n    }\n</style>\n<table border=\"1\" class=\"dataframe\">\n  <thead>\n    <tr style=\"text-align: right;\">\n      <th></th>\n      <th>High</th>\n      <th>Low</th>\n      <th>Open</th>\n      <th>Close</th>\n      <th>Volume</th>\n      <th>Adj Close</th>\n    </tr>\n    <tr>\n      <th>Date</th>\n      <th></th>\n      <th></th>\n      <th></th>\n      <th></th>\n      <th></th>\n      <th></th>\n    </tr>\n  </thead>\n  <tbody>\n    <tr>\n      <th>2017-08-07</th>\n      <td>46.584999</td>\n      <td>46.325001</td>\n      <td>46.452999</td>\n      <td>46.467999</td>\n      <td>20644000.0</td>\n      <td>46.467999</td>\n    </tr>\n    <tr>\n      <th>2017-08-08</th>\n      <td>46.790699</td>\n      <td>46.280499</td>\n      <td>46.354500</td>\n      <td>46.339500</td>\n      <td>21232000.0</td>\n      <td>46.339500</td>\n    </tr>\n    <tr>\n      <th>2017-08-09</th>\n      <td>46.299000</td>\n      <td>45.862499</td>\n      <td>46.030499</td>\n      <td>46.145000</td>\n      <td>23842000.0</td>\n      <td>46.145000</td>\n    </tr>\n    <tr>\n      <th>2017-08-10</th>\n      <td>45.963001</td>\n      <td>45.306499</td>\n      <td>45.877499</td>\n      <td>45.362000</td>\n      <td>36480000.0</td>\n      <td>45.362000</td>\n    </tr>\n    <tr>\n      <th>2017-08-11</th>\n      <td>45.889000</td>\n      <td>45.278999</td>\n      <td>45.398499</td>\n      <td>45.719501</td>\n      <td>24136000.0</td>\n      <td>45.719501</td>\n    </tr>\n  </tbody>\n</table>\n</div>"
     },
     "execution_count": 2,
     "metadata": {},
     "output_type": "execute_result"
    }
   ],
   "source": [
    "df = pdr.get_data_yahoo('GOOG')\n",
    "df.head()"
   ],
   "metadata": {
    "collapsed": false,
    "pycharm": {
     "name": "#%%\n"
    }
   }
  },
  {
   "cell_type": "code",
   "execution_count": 3,
   "outputs": [
    {
     "data": {
      "text/plain": "                  High         Low        Open       Close      Volume  \\\nDate                                                                     \n2022-08-01  117.120003  114.690002  115.529999  115.480003  22856200.0   \n2022-08-02  117.080002  114.260002  114.430000  115.900002  17911000.0   \n2022-08-03  119.419998  116.150002  116.339996  118.779999  25302800.0   \n2022-08-04  119.500000  117.709999  118.300003  118.870003  15740700.0   \n2022-08-05  118.860001  116.709999  116.930000  117.940002   4130463.0   \n\n             Adj Close  \nDate                    \n2022-08-01  115.480003  \n2022-08-02  115.900002  \n2022-08-03  118.779999  \n2022-08-04  118.870003  \n2022-08-05  117.940002  ",
      "text/html": "<div>\n<style scoped>\n    .dataframe tbody tr th:only-of-type {\n        vertical-align: middle;\n    }\n\n    .dataframe tbody tr th {\n        vertical-align: top;\n    }\n\n    .dataframe thead th {\n        text-align: right;\n    }\n</style>\n<table border=\"1\" class=\"dataframe\">\n  <thead>\n    <tr style=\"text-align: right;\">\n      <th></th>\n      <th>High</th>\n      <th>Low</th>\n      <th>Open</th>\n      <th>Close</th>\n      <th>Volume</th>\n      <th>Adj Close</th>\n    </tr>\n    <tr>\n      <th>Date</th>\n      <th></th>\n      <th></th>\n      <th></th>\n      <th></th>\n      <th></th>\n      <th></th>\n    </tr>\n  </thead>\n  <tbody>\n    <tr>\n      <th>2022-08-01</th>\n      <td>117.120003</td>\n      <td>114.690002</td>\n      <td>115.529999</td>\n      <td>115.480003</td>\n      <td>22856200.0</td>\n      <td>115.480003</td>\n    </tr>\n    <tr>\n      <th>2022-08-02</th>\n      <td>117.080002</td>\n      <td>114.260002</td>\n      <td>114.430000</td>\n      <td>115.900002</td>\n      <td>17911000.0</td>\n      <td>115.900002</td>\n    </tr>\n    <tr>\n      <th>2022-08-03</th>\n      <td>119.419998</td>\n      <td>116.150002</td>\n      <td>116.339996</td>\n      <td>118.779999</td>\n      <td>25302800.0</td>\n      <td>118.779999</td>\n    </tr>\n    <tr>\n      <th>2022-08-04</th>\n      <td>119.500000</td>\n      <td>117.709999</td>\n      <td>118.300003</td>\n      <td>118.870003</td>\n      <td>15740700.0</td>\n      <td>118.870003</td>\n    </tr>\n    <tr>\n      <th>2022-08-05</th>\n      <td>118.860001</td>\n      <td>116.709999</td>\n      <td>116.930000</td>\n      <td>117.940002</td>\n      <td>4130463.0</td>\n      <td>117.940002</td>\n    </tr>\n  </tbody>\n</table>\n</div>"
     },
     "execution_count": 3,
     "metadata": {},
     "output_type": "execute_result"
    }
   ],
   "source": [
    "df.tail()"
   ],
   "metadata": {
    "collapsed": false,
    "pycharm": {
     "name": "#%%\n"
    }
   }
  },
  {
   "cell_type": "code",
   "execution_count": 4,
   "outputs": [
    {
     "data": {
      "text/plain": "              High          Low         Open        Close        Volume  \\\ncount  1259.000000  1259.000000  1259.000000  1259.000000  1.259000e+03   \nmean     82.604960    80.878393    81.716135    81.762361  3.108071e+07   \nstd      32.655928    31.961382    32.327053    32.299736  1.354974e+07   \nmin      45.650002    45.169998    45.255001    45.333000  4.130463e+06   \n25%      56.587650    55.417500    56.033751    56.001999  2.264300e+07   \n50%      67.498749    65.875000    66.611000    66.806999  2.786000e+07   \n75%     113.625999   110.484001   111.825500   112.110497  3.538800e+07   \nmax     152.100006   149.887497   151.863495   150.709000  1.241400e+08   \n\n         Adj Close  \ncount  1259.000000  \nmean     81.762361  \nstd      32.299736  \nmin      45.333000  \n25%      56.001999  \n50%      66.806999  \n75%     112.110497  \nmax     150.709000  ",
      "text/html": "<div>\n<style scoped>\n    .dataframe tbody tr th:only-of-type {\n        vertical-align: middle;\n    }\n\n    .dataframe tbody tr th {\n        vertical-align: top;\n    }\n\n    .dataframe thead th {\n        text-align: right;\n    }\n</style>\n<table border=\"1\" class=\"dataframe\">\n  <thead>\n    <tr style=\"text-align: right;\">\n      <th></th>\n      <th>High</th>\n      <th>Low</th>\n      <th>Open</th>\n      <th>Close</th>\n      <th>Volume</th>\n      <th>Adj Close</th>\n    </tr>\n  </thead>\n  <tbody>\n    <tr>\n      <th>count</th>\n      <td>1259.000000</td>\n      <td>1259.000000</td>\n      <td>1259.000000</td>\n      <td>1259.000000</td>\n      <td>1.259000e+03</td>\n      <td>1259.000000</td>\n    </tr>\n    <tr>\n      <th>mean</th>\n      <td>82.604960</td>\n      <td>80.878393</td>\n      <td>81.716135</td>\n      <td>81.762361</td>\n      <td>3.108071e+07</td>\n      <td>81.762361</td>\n    </tr>\n    <tr>\n      <th>std</th>\n      <td>32.655928</td>\n      <td>31.961382</td>\n      <td>32.327053</td>\n      <td>32.299736</td>\n      <td>1.354974e+07</td>\n      <td>32.299736</td>\n    </tr>\n    <tr>\n      <th>min</th>\n      <td>45.650002</td>\n      <td>45.169998</td>\n      <td>45.255001</td>\n      <td>45.333000</td>\n      <td>4.130463e+06</td>\n      <td>45.333000</td>\n    </tr>\n    <tr>\n      <th>25%</th>\n      <td>56.587650</td>\n      <td>55.417500</td>\n      <td>56.033751</td>\n      <td>56.001999</td>\n      <td>2.264300e+07</td>\n      <td>56.001999</td>\n    </tr>\n    <tr>\n      <th>50%</th>\n      <td>67.498749</td>\n      <td>65.875000</td>\n      <td>66.611000</td>\n      <td>66.806999</td>\n      <td>2.786000e+07</td>\n      <td>66.806999</td>\n    </tr>\n    <tr>\n      <th>75%</th>\n      <td>113.625999</td>\n      <td>110.484001</td>\n      <td>111.825500</td>\n      <td>112.110497</td>\n      <td>3.538800e+07</td>\n      <td>112.110497</td>\n    </tr>\n    <tr>\n      <th>max</th>\n      <td>152.100006</td>\n      <td>149.887497</td>\n      <td>151.863495</td>\n      <td>150.709000</td>\n      <td>1.241400e+08</td>\n      <td>150.709000</td>\n    </tr>\n  </tbody>\n</table>\n</div>"
     },
     "execution_count": 4,
     "metadata": {},
     "output_type": "execute_result"
    }
   ],
   "source": [
    "df.describe()"
   ],
   "metadata": {
    "collapsed": false,
    "pycharm": {
     "name": "#%%\n"
    }
   }
  },
  {
   "cell_type": "markdown",
   "source": [
    "It looks like date is already set as the index on this dataset, which is convenient. The data is also sorted by day chronologically, and starts in 2017 and ends in 2022. We have several columns that are quite similar. I will opt to use only the Close data, just for the sake of choosing a single feature that is not redundant."
   ],
   "metadata": {
    "collapsed": false,
    "pycharm": {
     "name": "#%% md\n"
    }
   }
  },
  {
   "cell_type": "code",
   "execution_count": 5,
   "outputs": [
    {
     "data": {
      "text/plain": "                Close\nDate                 \n2017-08-07  46.467999\n2017-08-08  46.339500\n2017-08-09  46.145000\n2017-08-10  45.362000\n2017-08-11  45.719501",
      "text/html": "<div>\n<style scoped>\n    .dataframe tbody tr th:only-of-type {\n        vertical-align: middle;\n    }\n\n    .dataframe tbody tr th {\n        vertical-align: top;\n    }\n\n    .dataframe thead th {\n        text-align: right;\n    }\n</style>\n<table border=\"1\" class=\"dataframe\">\n  <thead>\n    <tr style=\"text-align: right;\">\n      <th></th>\n      <th>Close</th>\n    </tr>\n    <tr>\n      <th>Date</th>\n      <th></th>\n    </tr>\n  </thead>\n  <tbody>\n    <tr>\n      <th>2017-08-07</th>\n      <td>46.467999</td>\n    </tr>\n    <tr>\n      <th>2017-08-08</th>\n      <td>46.339500</td>\n    </tr>\n    <tr>\n      <th>2017-08-09</th>\n      <td>46.145000</td>\n    </tr>\n    <tr>\n      <th>2017-08-10</th>\n      <td>45.362000</td>\n    </tr>\n    <tr>\n      <th>2017-08-11</th>\n      <td>45.719501</td>\n    </tr>\n  </tbody>\n</table>\n</div>"
     },
     "execution_count": 5,
     "metadata": {},
     "output_type": "execute_result"
    }
   ],
   "source": [
    "df = df[['Close']]\n",
    "df.head()"
   ],
   "metadata": {
    "collapsed": false,
    "pycharm": {
     "name": "#%%\n"
    }
   }
  },
  {
   "cell_type": "markdown",
   "source": [
    "Split data into train vs. validation vs. test chronologically.\n",
    "This is important so that we do not do out-of-time data leakage."
   ],
   "metadata": {
    "collapsed": false,
    "pycharm": {
     "name": "#%% md\n"
    }
   }
  },
  {
   "cell_type": "code",
   "execution_count": 6,
   "outputs": [
    {
     "name": "stdout",
     "output_type": "stream",
     "text": [
      "Train size: 90%\n",
      "Validation size: 5%\n",
      "Test size: 5%\n"
     ]
    }
   ],
   "source": [
    "TEST_SIZE = 0.05\n",
    "VALIDATION_SIZE = 0.05\n",
    "TRAIN_SIZE = 1 - TEST_SIZE - VALIDATION_SIZE\n",
    "print(f'Train size: {TRAIN_SIZE:.0%}\\nValidation size: {VALIDATION_SIZE:.0%}\\nTest size: {TEST_SIZE:.0%}')"
   ],
   "metadata": {
    "collapsed": false,
    "pycharm": {
     "name": "#%%\n"
    }
   }
  },
  {
   "cell_type": "code",
   "execution_count": 7,
   "outputs": [
    {
     "name": "stdout",
     "output_type": "stream",
     "text": [
      "Train df shape: (1133, 1)\n",
      "Validation df shape: (62, 1)\n",
      "Test df shape: (64, 1)\n"
     ]
    }
   ],
   "source": [
    "train_ending_index = int(len(df) * TRAIN_SIZE)\n",
    "validation_ending_index = train_ending_index + int(len(df) * VALIDATION_SIZE)\n",
    "\n",
    "train_df = df[:train_ending_index]\n",
    "validation_df = df[train_ending_index:validation_ending_index]\n",
    "test_df = df[validation_ending_index:]\n",
    "\n",
    "print(f'Train df shape: {train_df.shape}')\n",
    "print(f'Validation df shape: {validation_df.shape}')\n",
    "print(f'Test df shape: {test_df.shape}')"
   ],
   "metadata": {
    "collapsed": false,
    "pycharm": {
     "name": "#%%\n"
    }
   }
  },
  {
   "cell_type": "code",
   "execution_count": 8,
   "outputs": [
    {
     "data": {
      "text/plain": "                Close\nDate                 \n2017-08-07  46.467999\n2017-08-08  46.339500\n2017-08-09  46.145000\n2017-08-10  45.362000\n2017-08-11  45.719501",
      "text/html": "<div>\n<style scoped>\n    .dataframe tbody tr th:only-of-type {\n        vertical-align: middle;\n    }\n\n    .dataframe tbody tr th {\n        vertical-align: top;\n    }\n\n    .dataframe thead th {\n        text-align: right;\n    }\n</style>\n<table border=\"1\" class=\"dataframe\">\n  <thead>\n    <tr style=\"text-align: right;\">\n      <th></th>\n      <th>Close</th>\n    </tr>\n    <tr>\n      <th>Date</th>\n      <th></th>\n    </tr>\n  </thead>\n  <tbody>\n    <tr>\n      <th>2017-08-07</th>\n      <td>46.467999</td>\n    </tr>\n    <tr>\n      <th>2017-08-08</th>\n      <td>46.339500</td>\n    </tr>\n    <tr>\n      <th>2017-08-09</th>\n      <td>46.145000</td>\n    </tr>\n    <tr>\n      <th>2017-08-10</th>\n      <td>45.362000</td>\n    </tr>\n    <tr>\n      <th>2017-08-11</th>\n      <td>45.719501</td>\n    </tr>\n  </tbody>\n</table>\n</div>"
     },
     "execution_count": 8,
     "metadata": {},
     "output_type": "execute_result"
    }
   ],
   "source": [
    "train_df.head()"
   ],
   "metadata": {
    "collapsed": false,
    "pycharm": {
     "name": "#%%\n"
    }
   }
  },
  {
   "cell_type": "code",
   "execution_count": 9,
   "outputs": [
    {
     "data": {
      "text/plain": "                 Close\nDate                  \n2022-01-28  133.289505\n2022-01-31  135.698502\n2022-02-01  137.878494\n2022-02-02  148.036499\n2022-02-03  142.650497",
      "text/html": "<div>\n<style scoped>\n    .dataframe tbody tr th:only-of-type {\n        vertical-align: middle;\n    }\n\n    .dataframe tbody tr th {\n        vertical-align: top;\n    }\n\n    .dataframe thead th {\n        text-align: right;\n    }\n</style>\n<table border=\"1\" class=\"dataframe\">\n  <thead>\n    <tr style=\"text-align: right;\">\n      <th></th>\n      <th>Close</th>\n    </tr>\n    <tr>\n      <th>Date</th>\n      <th></th>\n    </tr>\n  </thead>\n  <tbody>\n    <tr>\n      <th>2022-01-28</th>\n      <td>133.289505</td>\n    </tr>\n    <tr>\n      <th>2022-01-31</th>\n      <td>135.698502</td>\n    </tr>\n    <tr>\n      <th>2022-02-01</th>\n      <td>137.878494</td>\n    </tr>\n    <tr>\n      <th>2022-02-02</th>\n      <td>148.036499</td>\n    </tr>\n    <tr>\n      <th>2022-02-03</th>\n      <td>142.650497</td>\n    </tr>\n  </tbody>\n</table>\n</div>"
     },
     "execution_count": 9,
     "metadata": {},
     "output_type": "execute_result"
    }
   ],
   "source": [
    "train_df.tail()"
   ],
   "metadata": {
    "collapsed": false,
    "pycharm": {
     "name": "#%%\n"
    }
   }
  },
  {
   "cell_type": "code",
   "execution_count": 10,
   "outputs": [
    {
     "data": {
      "text/plain": "                 Close\nDate                  \n2022-02-04  143.016006\n2022-02-07  138.938004\n2022-02-08  139.212997\n2022-02-09  141.453003\n2022-02-10  138.602493",
      "text/html": "<div>\n<style scoped>\n    .dataframe tbody tr th:only-of-type {\n        vertical-align: middle;\n    }\n\n    .dataframe tbody tr th {\n        vertical-align: top;\n    }\n\n    .dataframe thead th {\n        text-align: right;\n    }\n</style>\n<table border=\"1\" class=\"dataframe\">\n  <thead>\n    <tr style=\"text-align: right;\">\n      <th></th>\n      <th>Close</th>\n    </tr>\n    <tr>\n      <th>Date</th>\n      <th></th>\n    </tr>\n  </thead>\n  <tbody>\n    <tr>\n      <th>2022-02-04</th>\n      <td>143.016006</td>\n    </tr>\n    <tr>\n      <th>2022-02-07</th>\n      <td>138.938004</td>\n    </tr>\n    <tr>\n      <th>2022-02-08</th>\n      <td>139.212997</td>\n    </tr>\n    <tr>\n      <th>2022-02-09</th>\n      <td>141.453003</td>\n    </tr>\n    <tr>\n      <th>2022-02-10</th>\n      <td>138.602493</td>\n    </tr>\n  </tbody>\n</table>\n</div>"
     },
     "execution_count": 10,
     "metadata": {},
     "output_type": "execute_result"
    }
   ],
   "source": [
    "validation_df.head()"
   ],
   "metadata": {
    "collapsed": false,
    "pycharm": {
     "name": "#%%\n"
    }
   }
  },
  {
   "cell_type": "code",
   "execution_count": 11,
   "outputs": [
    {
     "data": {
      "text/plain": "                 Close\nDate                  \n2022-04-28  119.411499\n2022-04-29  114.966499\n2022-05-02  117.156998\n2022-05-03  118.129501\n2022-05-04  122.574997",
      "text/html": "<div>\n<style scoped>\n    .dataframe tbody tr th:only-of-type {\n        vertical-align: middle;\n    }\n\n    .dataframe tbody tr th {\n        vertical-align: top;\n    }\n\n    .dataframe thead th {\n        text-align: right;\n    }\n</style>\n<table border=\"1\" class=\"dataframe\">\n  <thead>\n    <tr style=\"text-align: right;\">\n      <th></th>\n      <th>Close</th>\n    </tr>\n    <tr>\n      <th>Date</th>\n      <th></th>\n    </tr>\n  </thead>\n  <tbody>\n    <tr>\n      <th>2022-04-28</th>\n      <td>119.411499</td>\n    </tr>\n    <tr>\n      <th>2022-04-29</th>\n      <td>114.966499</td>\n    </tr>\n    <tr>\n      <th>2022-05-02</th>\n      <td>117.156998</td>\n    </tr>\n    <tr>\n      <th>2022-05-03</th>\n      <td>118.129501</td>\n    </tr>\n    <tr>\n      <th>2022-05-04</th>\n      <td>122.574997</td>\n    </tr>\n  </tbody>\n</table>\n</div>"
     },
     "execution_count": 11,
     "metadata": {},
     "output_type": "execute_result"
    }
   ],
   "source": [
    "validation_df.tail()"
   ],
   "metadata": {
    "collapsed": false,
    "pycharm": {
     "name": "#%%\n"
    }
   }
  },
  {
   "cell_type": "code",
   "execution_count": 12,
   "outputs": [
    {
     "data": {
      "text/plain": "                 Close\nDate                  \n2022-05-05  116.746498\n2022-05-06  115.660004\n2022-05-09  113.084000\n2022-05-10  114.584503\n2022-05-11  113.960999",
      "text/html": "<div>\n<style scoped>\n    .dataframe tbody tr th:only-of-type {\n        vertical-align: middle;\n    }\n\n    .dataframe tbody tr th {\n        vertical-align: top;\n    }\n\n    .dataframe thead th {\n        text-align: right;\n    }\n</style>\n<table border=\"1\" class=\"dataframe\">\n  <thead>\n    <tr style=\"text-align: right;\">\n      <th></th>\n      <th>Close</th>\n    </tr>\n    <tr>\n      <th>Date</th>\n      <th></th>\n    </tr>\n  </thead>\n  <tbody>\n    <tr>\n      <th>2022-05-05</th>\n      <td>116.746498</td>\n    </tr>\n    <tr>\n      <th>2022-05-06</th>\n      <td>115.660004</td>\n    </tr>\n    <tr>\n      <th>2022-05-09</th>\n      <td>113.084000</td>\n    </tr>\n    <tr>\n      <th>2022-05-10</th>\n      <td>114.584503</td>\n    </tr>\n    <tr>\n      <th>2022-05-11</th>\n      <td>113.960999</td>\n    </tr>\n  </tbody>\n</table>\n</div>"
     },
     "execution_count": 12,
     "metadata": {},
     "output_type": "execute_result"
    }
   ],
   "source": [
    "test_df.head()"
   ],
   "metadata": {
    "collapsed": false,
    "pycharm": {
     "name": "#%%\n"
    }
   }
  },
  {
   "cell_type": "code",
   "execution_count": 13,
   "outputs": [
    {
     "data": {
      "text/plain": "                 Close\nDate                  \n2022-08-01  115.480003\n2022-08-02  115.900002\n2022-08-03  118.779999\n2022-08-04  118.870003\n2022-08-05  117.940002",
      "text/html": "<div>\n<style scoped>\n    .dataframe tbody tr th:only-of-type {\n        vertical-align: middle;\n    }\n\n    .dataframe tbody tr th {\n        vertical-align: top;\n    }\n\n    .dataframe thead th {\n        text-align: right;\n    }\n</style>\n<table border=\"1\" class=\"dataframe\">\n  <thead>\n    <tr style=\"text-align: right;\">\n      <th></th>\n      <th>Close</th>\n    </tr>\n    <tr>\n      <th>Date</th>\n      <th></th>\n    </tr>\n  </thead>\n  <tbody>\n    <tr>\n      <th>2022-08-01</th>\n      <td>115.480003</td>\n    </tr>\n    <tr>\n      <th>2022-08-02</th>\n      <td>115.900002</td>\n    </tr>\n    <tr>\n      <th>2022-08-03</th>\n      <td>118.779999</td>\n    </tr>\n    <tr>\n      <th>2022-08-04</th>\n      <td>118.870003</td>\n    </tr>\n    <tr>\n      <th>2022-08-05</th>\n      <td>117.940002</td>\n    </tr>\n  </tbody>\n</table>\n</div>"
     },
     "execution_count": 13,
     "metadata": {},
     "output_type": "execute_result"
    }
   ],
   "source": [
    "test_df.tail()"
   ],
   "metadata": {
    "collapsed": false,
    "pycharm": {
     "name": "#%%\n"
    }
   }
  },
  {
   "cell_type": "markdown",
   "source": [
    "Note how the data is split chronologically, so there is no time overlap between training / validation / testing"
   ],
   "metadata": {
    "collapsed": false,
    "pycharm": {
     "name": "#%% md\n"
    }
   }
  },
  {
   "cell_type": "markdown",
   "source": [
    "## Feature normalization\n",
    "Normalize based on training data so that scale is controlled."
   ],
   "metadata": {
    "collapsed": false,
    "pycharm": {
     "name": "#%% md\n"
    }
   }
  },
  {
   "cell_type": "code",
   "execution_count": 15,
   "outputs": [
    {
     "name": "stdout",
     "output_type": "stream",
     "text": [
      "Train max: 150.70899963378906, train min: 45.33300018310547\n"
     ]
    }
   ],
   "source": [
    "train_max = train_df['Close'].max()\n",
    "train_min = train_df['Close'].min()\n",
    "print(f'Train max: {train_max}, train min: {train_min}')"
   ],
   "metadata": {
    "collapsed": false,
    "pycharm": {
     "name": "#%%\n"
    }
   }
  },
  {
   "cell_type": "code",
   "execution_count": 16,
   "outputs": [
    {
     "name": "stdout",
     "output_type": "stream",
     "text": [
      "Train df scaled max: 1.00, min: 0.00\n",
      "Validation df scaled max: 0.93, min: 0.66\n",
      "Test df scaled max: 0.71, min: 0.57\n"
     ]
    }
   ],
   "source": [
    "train_df_scaled = (train_df['Close'] - train_min) / (train_max - train_min)\n",
    "validation_df_scaled = (validation_df['Close'] - train_min) / (train_max - train_min)\n",
    "test_df_scaled = (test_df['Close'] - train_min) / (train_max - train_min)\n",
    "\n",
    "print(f'Train df scaled max: {train_df_scaled.max():.2f}, min: {train_df_scaled.min():.2f}')\n",
    "print(f'Validation df scaled max: {validation_df_scaled.max():.2f}, min: {validation_df_scaled.min():.2f}')\n",
    "print(f'Test df scaled max: {test_df_scaled.max():.2f}, min: {test_df_scaled.min():.2f}')"
   ],
   "metadata": {
    "collapsed": false,
    "pycharm": {
     "name": "#%%\n"
    }
   }
  },
  {
   "cell_type": "markdown",
   "source": [
    "## Create time series data set\n",
    "Need to reshape the data so that it is conducive for time series modeling."
   ],
   "metadata": {
    "collapsed": false,
    "pycharm": {
     "name": "#%% md\n"
    }
   }
  },
  {
   "cell_type": "code",
   "execution_count": 18,
   "outputs": [],
   "source": [
    "def create_dataset(dataset, look_back=1):\n",
    "    X, Y = [], []\n",
    "    for i in range(len(dataset)-look_back):\n",
    "        a = dataset[i:(i+look_back)]\n",
    "        X.append(a)\n",
    "        Y.append(dataset[i + look_back])\n",
    "    X = np.asarray(X).astype(np.float32)\n",
    "    Y = np.asarray(Y).astype(np.float32)\n",
    "    return np.array(X).reshape(X.shape[0], X.shape[1], 1), np.array(Y)"
   ],
   "metadata": {
    "collapsed": false,
    "pycharm": {
     "name": "#%%\n"
    }
   }
  },
  {
   "cell_type": "code",
   "execution_count": 25,
   "outputs": [
    {
     "name": "stdout",
     "output_type": "stream",
     "text": [
      "(1113, 20, 1)\n",
      "(1113,)\n",
      "(42, 20, 1)\n",
      "(42,)\n",
      "(44, 20, 1)\n",
      "(44,)\n"
     ]
    }
   ],
   "source": [
    "LOOKBACK = 20\n",
    "\n",
    "x_train, y_train = create_dataset(train_df_scaled, look_back = LOOKBACK)\n",
    "x_validation, y_validation = create_dataset(validation_df_scaled, look_back = LOOKBACK)\n",
    "x_test, y_test = create_dataset(test_df_scaled, look_back = LOOKBACK)\n",
    "\n",
    "print(x_train.shape)\n",
    "print(y_train.shape)\n",
    "print(x_validation.shape)\n",
    "print(y_validation.shape)\n",
    "print(x_test.shape)\n",
    "print(y_test.shape)"
   ],
   "metadata": {
    "collapsed": false,
    "pycharm": {
     "name": "#%%\n"
    }
   }
  },
  {
   "cell_type": "markdown",
   "source": [
    "## Build model\n",
    "The plan is to use an LSTM neural network. I chose this model because this model has been shown to be quite good at modeling order-dependent interactions (e.g. time-series data).\n",
    "\n",
    "The limitations of this model choice is that LSTM's typically perform well with a lot of data, and we don't have quite a lot of data available here. This model will perform better if we can acquire a larger volume of data.\n",
    "\n",
    "The benefit of this model choice is that we don't have to spend as much time feature engineering as we would with other types of models. We simply need to normalize the data and transform it into a properly shaped dataframe and can then begin training / hyperparameter tuning until we achieve the desired performance.\n",
    "\n",
    "Ideas for tuning:\n",
    "1. Number of hidden layers\n",
    "2. Sizes of hidden layers\n",
    "3. Magnitude of dropout\n",
    "4. Optimizer / learning rate\n",
    "5. Other types of RNN (e.g. GRU, bidirectional LSTM, etc.)\n",
    "6. Amount of lookback\n",
    "7. Training vs. validation vs. testing data set sizes"
   ],
   "metadata": {
    "collapsed": false,
    "pycharm": {
     "name": "#%% md\n"
    }
   }
  },
  {
   "cell_type": "markdown",
   "source": [
    "This model will be trained to optimize for RMSE, as it is a regression model. This error metric is in the units of the original stock price (normalized of course), so it can be compared between different company data fairly."
   ],
   "metadata": {
    "collapsed": false,
    "pycharm": {
     "name": "#%% md\n"
    }
   }
  }
 ],
 "metadata": {
  "kernelspec": {
   "display_name": "Python 3",
   "language": "python",
   "name": "python3"
  },
  "language_info": {
   "codemirror_mode": {
    "name": "ipython",
    "version": 2
   },
   "file_extension": ".py",
   "mimetype": "text/x-python",
   "name": "python",
   "nbconvert_exporter": "python",
   "pygments_lexer": "ipython2",
   "version": "2.7.6"
  }
 },
 "nbformat": 4,
 "nbformat_minor": 0
}