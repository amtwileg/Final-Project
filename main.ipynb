{
 "cells": [
  {
   "cell_type": "code",
   "execution_count": 1,
   "metadata": {
    "collapsed": true,
    "pycharm": {
     "name": "#%%\n"
    }
   },
   "outputs": [],
   "source": [
    "import pymongo\n",
    "import pandas_datareader as pdr"
   ]
  },
  {
   "cell_type": "markdown",
   "source": [
    "For this example, we will use Mongo DB to store the data."
   ],
   "metadata": {
    "collapsed": false,
    "pycharm": {
     "name": "#%% md\n"
    }
   }
  },
  {
   "cell_type": "code",
   "execution_count": 4,
   "outputs": [
    {
     "data": {
      "text/plain": "0"
     },
     "execution_count": 4,
     "metadata": {},
     "output_type": "execute_result"
    }
   ],
   "source": [
    "client = pymongo.MongoClient()\n",
    "db = client['final_project_db']\n",
    "db.final_project_db.count_documents({})"
   ],
   "metadata": {
    "collapsed": false,
    "pycharm": {
     "name": "#%%\n"
    }
   }
  },
  {
   "cell_type": "code",
   "execution_count": 5,
   "outputs": [
    {
     "name": "stdout",
     "output_type": "stream",
     "text": [
      "                          High        Low       Open      Close      Volume  \\\n",
      "Date                                                                          \n",
      "2017-08-22 00:00:00  46.292999  45.573750  45.636002  46.234501  23334000.0   \n",
      "2017-08-23 00:00:00  46.496498  45.967999  46.096500  46.349998  21804000.0   \n",
      "2017-08-24 00:00:00  46.542000  45.775002  46.432999  46.063999  25406000.0   \n",
      "2017-08-25 00:00:00  46.277748  45.775002  46.174500  45.794498  21068000.0   \n",
      "2017-08-28 00:00:00  45.962250  45.593498  45.799999  45.690498  21730000.0   \n",
      "\n",
      "                     Adj Close  \n",
      "Date                            \n",
      "2017-08-22 00:00:00  46.234501  \n",
      "2017-08-23 00:00:00  46.349998  \n",
      "2017-08-24 00:00:00  46.063999  \n",
      "2017-08-25 00:00:00  45.794498  \n",
      "2017-08-28 00:00:00  45.690498  \n"
     ]
    },
    {
     "data": {
      "text/plain": "1"
     },
     "execution_count": 5,
     "metadata": {},
     "output_type": "execute_result"
    }
   ],
   "source": [
    "google_data = pdr.get_data_yahoo('GOOG')\n",
    "google_data.index = google_data.index.map(str)\n",
    "db.final_project_db.insert_one(google_data.to_dict())\n",
    "\n",
    "print(google_data.head())\n",
    "db.final_project_db.count_documents({})"
   ],
   "metadata": {
    "collapsed": false,
    "pycharm": {
     "name": "#%%\n"
    }
   }
  },
  {
   "cell_type": "code",
   "execution_count": 6,
   "outputs": [
    {
     "name": "stdout",
     "output_type": "stream",
     "text": [
      "                           High         Low        Open       Close    Volume  \\\n",
      "Date                                                                            \n",
      "2017-08-22 00:00:00  169.869995  167.149994  168.279999  169.639999  11391000   \n",
      "2017-08-23 00:00:00  169.360001  168.199997  168.839996  168.710007   9856500   \n",
      "2017-08-24 00:00:00  169.289993  166.410004  168.880005  167.740005  14030400   \n",
      "2017-08-25 00:00:00  168.380005  166.179993  167.860001  166.320007  12614500   \n",
      "2017-08-28 00:00:00  167.699997  166.330002  166.910004  167.240005   8553700   \n",
      "\n",
      "                      Adj Close  \n",
      "Date                             \n",
      "2017-08-22 00:00:00  169.639999  \n",
      "2017-08-23 00:00:00  168.710007  \n",
      "2017-08-24 00:00:00  167.740005  \n",
      "2017-08-25 00:00:00  166.320007  \n",
      "2017-08-28 00:00:00  167.240005  \n"
     ]
    },
    {
     "data": {
      "text/plain": "2"
     },
     "execution_count": 6,
     "metadata": {},
     "output_type": "execute_result"
    }
   ],
   "source": [
    "meta_data = pdr.get_data_yahoo('META')\n",
    "meta_data.index = meta_data.index.map(str)\n",
    "db.final_project_db.insert_one(meta_data.to_dict())\n",
    "\n",
    "print(meta_data.head())\n",
    "db.final_project_db.count_documents({})"
   ],
   "metadata": {
    "collapsed": false,
    "pycharm": {
     "name": "#%%\n"
    }
   }
  },
  {
   "cell_type": "markdown",
   "source": [
    "For now, I will use sklearn's DummyRegressor to predict the mean. It will be connected to the same data that is in the database."
   ],
   "metadata": {
    "collapsed": false,
    "pycharm": {
     "name": "#%% md\n"
    }
   }
  },
  {
   "cell_type": "code",
   "execution_count": 10,
   "outputs": [
    {
     "data": {
      "text/plain": "array([31045934.81717011, 31045934.81717011, 31045934.81717011, ...,\n       31045934.81717011, 31045934.81717011, 31045934.81717011])"
     },
     "execution_count": 10,
     "metadata": {},
     "output_type": "execute_result"
    }
   ],
   "source": [
    "from sklearn.dummy import DummyRegressor\n",
    "dummy_regr = DummyRegressor(strategy=\"mean\")\n",
    "dummy_regr.fit(google_data.drop(columns=['Volume']), google_data['Volume'])\n",
    "dummy_regr.predict(google_data)"
   ],
   "metadata": {
    "collapsed": false,
    "pycharm": {
     "name": "#%%\n"
    }
   }
  }
 ],
 "metadata": {
  "kernelspec": {
   "display_name": "Python 3",
   "language": "python",
   "name": "python3"
  },
  "language_info": {
   "codemirror_mode": {
    "name": "ipython",
    "version": 2
   },
   "file_extension": ".py",
   "mimetype": "text/x-python",
   "name": "python",
   "nbconvert_exporter": "python",
   "pygments_lexer": "ipython2",
   "version": "2.7.6"
  }
 },
 "nbformat": 4,
 "nbformat_minor": 0
}